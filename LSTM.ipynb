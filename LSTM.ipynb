{
 "cells": [
  {
   "cell_type": "code",
   "execution_count": 1,
   "metadata": {},
   "outputs": [
    {
     "name": "stderr",
     "output_type": "stream",
     "text": [
      "Using TensorFlow backend.\n"
     ]
    }
   ],
   "source": [
    "%matplotlib inline\n",
    "import numpy as np\n",
    "import pandas as pd\n",
    "import matplotlib.pyplot as plt\n",
    "\n",
    "from sklearn.model_selection import train_test_split\n",
    "from keras.models import Sequential\n",
    "from keras.layers import Dense, Dropout, Activation, Flatten\n",
    "from keras.layers import Conv1D, MaxPooling1D, LSTM\n",
    "from keras.utils import np_utils\n",
    "from keras.preprocessing import sequence\n",
    "from keras import optimizers, metrics, regularizers\n",
    "from sklearn.metrics import accuracy_score"
   ]
  },
  {
   "cell_type": "code",
   "execution_count": 2,
   "metadata": {},
   "outputs": [],
   "source": [
    "train_dataX = np.load('train_data.npy')\n",
    "test_dataX = np.load('test_data.npy')\n",
    "train_datay = pd.read_csv('train_labels.csv')"
   ]
  },
  {
   "cell_type": "code",
   "execution_count": 3,
   "metadata": {},
   "outputs": [],
   "source": [
    "#pre-processing data\n",
    "train_datay = train_datay.drop('Id',1)\n",
    "train_dataX = train_dataX.reshape(-1,210,210)\n",
    "test_dataX = test_dataX.reshape(-1,210,210)\n",
    "Y_train = np_utils.to_categorical(train_datay,2)\n",
    "\n",
    "#splitting data for validation\n",
    "X_train, X_test, y_train, y_test = train_test_split(train_dataX,Y_train, test_size=0.10, shuffle=True)\n",
    "X_test, X_valid, y_test, y_valid = train_test_split(X_test,y_test, test_size=0.2, shuffle=True)\n",
    "\n",
    "#deleting unwanted variables\n",
    "del train_dataX, train_datay"
   ]
  },
  {
   "cell_type": "code",
   "execution_count": 7,
   "metadata": {},
   "outputs": [
    {
     "name": "stdout",
     "output_type": "stream",
     "text": [
      "WARNING:tensorflow:From d:\\programs\\python installed\\lib\\site-packages\\tensorflow\\python\\framework\\op_def_library.py:263: colocate_with (from tensorflow.python.framework.ops) is deprecated and will be removed in a future version.\n",
      "Instructions for updating:\n",
      "Colocations handled automatically by placer.\n",
      "_________________________________________________________________\n",
      "Layer (type)                 Output Shape              Param #   \n",
      "=================================================================\n",
      "lstm_2 (LSTM)                (None, 4)                 3440      \n",
      "_________________________________________________________________\n",
      "dense_1 (Dense)              (None, 2)                 10        \n",
      "=================================================================\n",
      "Total params: 3,450\n",
      "Trainable params: 3,450\n",
      "Non-trainable params: 0\n",
      "_________________________________________________________________\n"
     ]
    }
   ],
   "source": [
    "#Simple LSTM Model\n",
    "#del model\n",
    "model = Sequential()\n",
    "model.add(LSTM(210, dropout=0.05, recurrent_dropout=0.35, return_sequences=True, input_shape=(210,210)))\n",
    "model.add(LSTM(64,  dropout=0.05, recurrent_dropout=0.35, return_sequences=True,))\n",
    "model.add(Flatten())\n",
    "model.add(Dense(2,activation='softmax'))\n",
    "\n",
    "model.summary()"
   ]
  },
  {
   "cell_type": "code",
   "execution_count": 8,
   "metadata": {},
   "outputs": [],
   "source": [
    "# compile model\n",
    "sgd=optimizers.SGD(lr=0.01)\n",
    "adam=optimizers.Adam(lr=0.01)\n",
    "model.compile(loss='categorical_crossentropy', \n",
    "              optimizer=adam,\n",
    "              metrics=['accuracy'])"
   ]
  },
  {
   "cell_type": "code",
   "execution_count": 10,
   "metadata": {},
   "outputs": [
    {
     "name": "stderr",
     "output_type": "stream",
     "text": [
      "d:\\programs\\python installed\\lib\\site-packages\\ipykernel_launcher.py:3: UserWarning: The `nb_epoch` argument in `fit` has been renamed `epochs`.\n",
      "  This is separate from the ipykernel package so we can avoid doing imports until\n"
     ]
    },
    {
     "name": "stdout",
     "output_type": "stream",
     "text": [
      "Train on 3599 samples, validate on 320 samples\n",
      "Epoch 1/10\n",
      "3599/3599 [==============================] - 9s 2ms/step - loss: 0.5013 - acc: 0.8772 - val_loss: 0.4857 - val_acc: 0.8750\n",
      "Epoch 2/10\n",
      "3599/3599 [==============================] - 5s 1ms/step - loss: 0.4733 - acc: 0.8775 - val_loss: 0.4619 - val_acc: 0.8781\n",
      "Epoch 3/10\n",
      "3599/3599 [==============================] - 4s 1ms/step - loss: 0.4523 - acc: 0.8775 - val_loss: 0.4438 - val_acc: 0.8781\n",
      "Epoch 4/10\n",
      "3599/3599 [==============================] - 4s 1ms/step - loss: 0.4363 - acc: 0.8775 - val_loss: 0.4299 - val_acc: 0.8781\n",
      "Epoch 5/10\n",
      "3599/3599 [==============================] - 4s 1ms/step - loss: 0.4239 - acc: 0.8777 - val_loss: 0.4191 - val_acc: 0.8781\n",
      "Epoch 6/10\n",
      "3599/3599 [==============================] - 4s 1ms/step - loss: 0.4143 - acc: 0.8777 - val_loss: 0.4106 - val_acc: 0.8781\n",
      "Epoch 7/10\n",
      "3599/3599 [==============================] - 4s 1ms/step - loss: 0.4066 - acc: 0.8777 - val_loss: 0.4040 - val_acc: 0.8781\n",
      "Epoch 8/10\n",
      "3599/3599 [==============================] - 4s 1ms/step - loss: 0.4007 - acc: 0.8777 - val_loss: 0.3987 - val_acc: 0.8781\n",
      "Epoch 9/10\n",
      "3599/3599 [==============================] - 4s 1ms/step - loss: 0.3958 - acc: 0.8780 - val_loss: 0.3944 - val_acc: 0.8781\n",
      "Epoch 10/10\n",
      "3599/3599 [==============================] - 4s 1ms/step - loss: 0.3919 - acc: 0.8780 - val_loss: 0.3909 - val_acc: 0.8781\n"
     ]
    },
    {
     "data": {
      "text/plain": [
       "<keras.callbacks.History at 0x2451b6e8630>"
      ]
     },
     "execution_count": 10,
     "metadata": {},
     "output_type": "execute_result"
    }
   ],
   "source": [
    "model.fit(X_train, y_train,\n",
    "          batch_size=500, nb_epoch=10,verbose=1,\n",
    "          validation_data=(X_test, y_test))"
   ]
  },
  {
   "cell_type": "code",
   "execution_count": 11,
   "metadata": {},
   "outputs": [
    {
     "name": "stdout",
     "output_type": "stream",
     "text": [
      "[[0.80634665 0.19365336]\n",
      " [0.8092882  0.19071181]\n",
      " [0.80880314 0.19119683]\n",
      " ...\n",
      " [0.80720437 0.19279568]\n",
      " [0.80846393 0.19153605]\n",
      " [0.80845386 0.19154611]]\n",
      "(80,)\n"
     ]
    }
   ],
   "source": [
    "from sklearn.metrics import roc_auc_score\n",
    "\n",
    "Y_test_predClass = model.predict_proba(X_test)\n",
    "\n",
    "\n",
    "roc = roc_auc_score(y_test, Y_test_predClass)\n",
    "print(\"ROC:\" + str(round(roc,4)))"
   ]
  },
  {
   "cell_type": "code",
   "execution_count": null,
   "metadata": {},
   "outputs": [],
   "source": [
    "Y_test_pred = model.predict(test_dataX)\n",
    "print(Y_test_pred)"
   ]
  },
  {
   "cell_type": "code",
   "execution_count": 12,
   "metadata": {},
   "outputs": [],
   "source": [
    "pd.DataFrame(Y_test_pred[;,0]).to_csv('submission30.csv', header=[\"Label\"], index_label='Id')\n",
    "del model"
   ]
  },
  {
   "cell_type": "markdown",
   "metadata": {},
   "source": [
    "**Using Embedding layers, to embedd the data**"
   ]
  },
  {
   "cell_type": "code",
   "execution_count": 2,
   "metadata": {},
   "outputs": [
    {
     "name": "stderr",
     "output_type": "stream",
     "text": [
      "Using TensorFlow backend.\n"
     ]
    }
   ],
   "source": [
    "%matplotlib inline\n",
    "import numpy as np\n",
    "import pandas as pd\n",
    "import matplotlib.pyplot as plt\n",
    "\n",
    "from sklearn.model_selection import train_test_split\n",
    "from keras.models import Sequential\n",
    "from keras.layers import Dense, Dropout, Activation, Flatten\n",
    "from keras.layers import LSTM\n",
    "from keras.layers.embeddings import Embedding\n",
    "from keras.utils import np_utils\n",
    "from keras.preprocessing import sequence\n",
    "from keras import optimizers, metrics, regularizers\n",
    "from sklearn.metrics import accuracy_score"
   ]
  },
  {
   "cell_type": "code",
   "execution_count": 29,
   "metadata": {},
   "outputs": [],
   "source": [
    "train_dataX = np.load('train_data.npy')\n",
    "test_dataX = np.load('test_data.npy')\n",
    "train_datay = pd.read_csv('train_labels.csv')"
   ]
  },
  {
   "cell_type": "code",
   "execution_count": 30,
   "metadata": {},
   "outputs": [
    {
     "name": "stdout",
     "output_type": "stream",
     "text": [
      "(3999, 44100)\n"
     ]
    }
   ],
   "source": [
    "#pre-processing data\n",
    "train_datay = train_datay.drop('Id',1)\n",
    "train_dataX = train_dataX.reshape(-1,44100)\n",
    "test_dataX = test_dataX.reshape(-1,44100)\n",
    "Y_train = np_utils.to_categorical(train_datay,2)\n",
    "print(train_dataX.shape)\n",
    "\n",
    "#splitting data for validation\n",
    "X_train, X_test, y_train, y_test = train_test_split(train_dataX,Y_train, test_size=0.10, shuffle=True)\n",
    "X_test, X_valid, y_test, y_valid = train_test_split(X_test,y_test, test_size=0.2, shuffle=True)\n",
    "\n",
    "#deleting unwanted variables\n",
    "del train_dataX, train_datay"
   ]
  },
  {
   "cell_type": "code",
   "execution_count": 34,
   "metadata": {},
   "outputs": [
    {
     "name": "stdout",
     "output_type": "stream",
     "text": [
      "_________________________________________________________________\n",
      "Layer (type)                 Output Shape              Param #   \n",
      "=================================================================\n",
      "embedding_9 (Embedding)      (None, 44100, 4)          40        \n",
      "_________________________________________________________________\n",
      "lstm_8 (LSTM)                (None, 64)                17664     \n",
      "_________________________________________________________________\n",
      "dense_11 (Dense)             (None, 16)                1040      \n",
      "_________________________________________________________________\n",
      "dropout_6 (Dropout)          (None, 16)                0         \n",
      "_________________________________________________________________\n",
      "dense_12 (Dense)             (None, 2)                 34        \n",
      "=================================================================\n",
      "Total params: 18,778\n",
      "Trainable params: 18,778\n",
      "Non-trainable params: 0\n",
      "_________________________________________________________________\n"
     ]
    }
   ],
   "source": [
    "#Simple LSTM Model\n",
    "model = Sequential()\n",
    "model.add(Embedding(10,4,input_length=44100))\n",
    "model.add(LSTM(64, dropout=0.1,recurrent_dropout=0.1))\n",
    "model.add(Dense(16,activation='relu'))\n",
    "model.add(Dropout(0.25))\n",
    "model.add(Dense(2,activation='softmax'))\n",
    "\n",
    "model.summary()"
   ]
  },
  {
   "cell_type": "code",
   "execution_count": 35,
   "metadata": {},
   "outputs": [],
   "source": [
    "# compile model\n",
    "sgd=optimizers.SGD(lr=0.01) \n",
    "adam=optimizers.Adam(lr=0.01) \n",
    "model.compile(loss='binary_crossentropy', optimizer=sgd, metrics=['accuracy'])\n",
    "#model.compile(loss='categorical_crossentropy',optimizer=sgd,metrics=['accuracy'])"
   ]
  },
  {
   "cell_type": "code",
   "execution_count": null,
   "metadata": {},
   "outputs": [
    {
     "name": "stdout",
     "output_type": "stream",
     "text": [
      "WARNING:tensorflow:From d:\\programs\\python installed\\lib\\site-packages\\tensorflow\\python\\ops\\math_ops.py:3066: to_int32 (from tensorflow.python.ops.math_ops) is deprecated and will be removed in a future version.\n",
      "Instructions for updating:\n",
      "Use tf.cast instead.\n"
     ]
    },
    {
     "name": "stderr",
     "output_type": "stream",
     "text": [
      "d:\\programs\\python installed\\lib\\site-packages\\ipykernel_launcher.py:3: UserWarning: The `nb_epoch` argument in `fit` has been renamed `epochs`.\n",
      "  This is separate from the ipykernel package so we can avoid doing imports until\n"
     ]
    },
    {
     "name": "stdout",
     "output_type": "stream",
     "text": [
      "Train on 3599 samples, validate on 320 samples\n",
      "Epoch 1/10\n"
     ]
    }
   ],
   "source": [
    "model.fit(X_train, y_train,\n",
    "          batch_size=250, nb_epoch=10,verbose=1,\n",
    "          validation_data=(X_test, y_test))"
   ]
  },
  {
   "cell_type": "code",
   "execution_count": null,
   "metadata": {},
   "outputs": [],
   "source": [
    "Y_test_pred = model.predict(test_dataX)\n",
    "Y_valid_pred = model.predict_classes(X_valid)\n",
    "\n",
    "#accuracy = accuracy_score(y_valid,Y_valid_pred)\n",
    "#print('accuracy score:' +str(accuracy))\n",
    "print(Y_test_pred)\n",
    "print(Y_valid_pred.shape)"
   ]
  },
  {
   "cell_type": "code",
   "execution_count": null,
   "metadata": {},
   "outputs": [],
   "source": [
    "del model\n",
    "#manually edit csv file and delete the second coulmn and add header for \"Id\" column\n",
    "pd.DataFrame(Y_test_pred).to_csv('submission30.csv', header=[\"Label\", \"Label\"])"
   ]
  },
  {
   "cell_type": "code",
   "execution_count": null,
   "metadata": {},
   "outputs": [],
   "source": []
  }
 ],
 "metadata": {
  "kernelspec": {
   "display_name": "Python 3",
   "language": "python",
   "name": "python3"
  },
  "language_info": {
   "codemirror_mode": {
    "name": "ipython",
    "version": 3
   },
   "file_extension": ".py",
   "mimetype": "text/x-python",
   "name": "python",
   "nbconvert_exporter": "python",
   "pygments_lexer": "ipython3",
   "version": "3.6.6"
  }
 },
 "nbformat": 4,
 "nbformat_minor": 2
}
