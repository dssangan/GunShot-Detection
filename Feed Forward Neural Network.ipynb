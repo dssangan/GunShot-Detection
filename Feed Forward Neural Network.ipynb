{
 "cells": [
  {
   "cell_type": "code",
   "execution_count": 1,
   "metadata": {},
   "outputs": [
    {
     "name": "stderr",
     "output_type": "stream",
     "text": [
      "d:\\programs\\python installed\\lib\\importlib\\_bootstrap.py:219: RuntimeWarning: numpy.ufunc size changed, may indicate binary incompatibility. Expected 192 from C header, got 216 from PyObject\n",
      "  return f(*args, **kwds)\n",
      "d:\\programs\\python installed\\lib\\importlib\\_bootstrap.py:219: RuntimeWarning: numpy.ufunc size changed, may indicate binary incompatibility. Expected 216, got 192\n",
      "  return f(*args, **kwds)\n",
      "Using TensorFlow backend.\n",
      "d:\\programs\\python installed\\lib\\importlib\\_bootstrap.py:219: RuntimeWarning: numpy.ufunc size changed, may indicate binary incompatibility. Expected 192 from C header, got 216 from PyObject\n",
      "  return f(*args, **kwds)\n"
     ]
    }
   ],
   "source": [
    "%matplotlib inline\n",
    "import numpy as np\n",
    "import pandas as pd\n",
    "import matplotlib.pyplot as plt\n",
    "\n",
    "from sklearn.model_selection import train_test_split\n",
    "from sklearn.metrics import precision_recall_fscore_support, roc_auc_score\n",
    "\n",
    "from keras.models import Sequential\n",
    "from keras.layers import Dense, Dropout, Activation, Flatten\n",
    "from keras.layers import Conv1D, MaxPooling1D\n",
    "from keras.utils import np_utils\n",
    "from keras.callbacks import EarlyStopping\n",
    "from keras import optimizers, metrics"
   ]
  },
  {
   "cell_type": "code",
   "execution_count": 15,
   "metadata": {},
   "outputs": [],
   "source": [
    "train_dataX = np.load('augmented_data2.npy')\n",
    "test_dataX = np.load('test_data.npy')\n",
    "train_datay = pd.read_csv('Augmented_labels2.csv')\n",
    "\n",
    "train_datay = train_datay.drop('Id',1)\n",
    "Y_train = np_utils.to_categorical(train_datay,2)\n",
    "\n",
    "#splitting data for validation\n",
    "X_train, X_test, y_train, y_test = train_test_split(train_dataX,Y_train, test_size=0.25, shuffle=True)"
   ]
  },
  {
   "cell_type": "code",
   "execution_count": 17,
   "metadata": {},
   "outputs": [
    {
     "name": "stdout",
     "output_type": "stream",
     "text": [
      "_________________________________________________________________\n",
      "Layer (type)                 Output Shape              Param #   \n",
      "=================================================================\n",
      "dense_17 (Dense)             (None, 800)               35280800  \n",
      "_________________________________________________________________\n",
      "dense_18 (Dense)             (None, 400)               320400    \n",
      "_________________________________________________________________\n",
      "dropout_9 (Dropout)          (None, 400)               0         \n",
      "_________________________________________________________________\n",
      "dense_19 (Dense)             (None, 200)               80200     \n",
      "_________________________________________________________________\n",
      "dropout_10 (Dropout)         (None, 200)               0         \n",
      "_________________________________________________________________\n",
      "dense_20 (Dense)             (None, 2)                 402       \n",
      "=================================================================\n",
      "Total params: 35,681,802\n",
      "Trainable params: 35,681,802\n",
      "Non-trainable params: 0\n",
      "_________________________________________________________________\n"
     ]
    }
   ],
   "source": [
    "del model\n",
    "model = Sequential()\n",
    "model.add(Dense(800, input_shape=(44100,), activation='relu'))\n",
    "model.add(Dense(400, activation='relu'))\n",
    "model.add(Dropout(0.5))\n",
    "model.add(Dense(200, activation='relu'))\n",
    "model.add(Dropout(0.5))\n",
    "model.add(Dense(2,activation='softmax'))\n",
    "\n",
    "model.summary()"
   ]
  },
  {
   "cell_type": "code",
   "execution_count": 18,
   "metadata": {},
   "outputs": [],
   "source": [
    "# compile model\n",
    "sgd=optimizers.SGD(lr=.1)\n",
    "adam = optimizers.Adam(lr=0.01)\n",
    "model.compile(optimizer=adam,\n",
    "              loss=\"categorical_crossentropy\",\n",
    "              metrics=[\"accuracy\"])\n",
    "\n",
    "earlystop = EarlyStopping(monitor='val_loss', patience=3, verbose=1, mode='auto')"
   ]
  },
  {
   "cell_type": "code",
   "execution_count": 27,
   "metadata": {},
   "outputs": [
    {
     "name": "stdout",
     "output_type": "stream",
     "text": [
      "Train on 4097 samples, validate on 1366 samples\n",
      "Epoch 1/30\n",
      "\r",
      " 100/4097 [..............................] - ETA: 4s - loss: 0.6484 - acc: 0.7500"
     ]
    },
    {
     "name": "stderr",
     "output_type": "stream",
     "text": [
      "d:\\programs\\python installed\\lib\\site-packages\\ipykernel_launcher.py:3: UserWarning: The `nb_epoch` argument in `fit` has been renamed `epochs`.\n",
      "  This is separate from the ipykernel package so we can avoid doing imports until\n"
     ]
    },
    {
     "name": "stdout",
     "output_type": "stream",
     "text": [
      "4097/4097 [==============================] - 6s 1ms/step - loss: 0.6873 - acc: 0.7064 - val_loss: 0.7172 - val_acc: 0.6501\n",
      "Epoch 2/30\n",
      "4097/4097 [==============================] - 6s 1ms/step - loss: 0.6980 - acc: 0.6895 - val_loss: 0.6919 - val_acc: 0.6537\n",
      "Epoch 3/30\n",
      "4097/4097 [==============================] - 5s 1ms/step - loss: 0.6325 - acc: 0.6937 - val_loss: 0.6642 - val_acc: 0.6457\n",
      "Epoch 4/30\n",
      "4097/4097 [==============================] - 5s 1ms/step - loss: 0.6316 - acc: 0.6907 - val_loss: 0.6918 - val_acc: 0.6369\n",
      "Epoch 5/30\n",
      "4097/4097 [==============================] - 5s 1ms/step - loss: 0.6960 - acc: 0.6788 - val_loss: 0.6323 - val_acc: 0.6413\n",
      "Epoch 6/30\n",
      "4097/4097 [==============================] - 4s 1ms/step - loss: 0.6196 - acc: 0.6722 - val_loss: 0.6924 - val_acc: 0.6391\n",
      "Epoch 7/30\n",
      "4097/4097 [==============================] - 4s 1000us/step - loss: 0.6234 - acc: 0.6671 - val_loss: 0.7606 - val_acc: 0.6428\n",
      "Epoch 8/30\n",
      "4097/4097 [==============================] - 4s 994us/step - loss: 0.6435 - acc: 0.6668 - val_loss: 0.6508 - val_acc: 0.6398\n",
      "Epoch 9/30\n",
      "4097/4097 [==============================] - 4s 958us/step - loss: 0.7180 - acc: 0.6742 - val_loss: 0.7480 - val_acc: 0.6428\n",
      "Epoch 10/30\n",
      "4097/4097 [==============================] - 4s 923us/step - loss: 0.6389 - acc: 0.6766 - val_loss: 0.7227 - val_acc: 0.6340\n",
      "Epoch 11/30\n",
      "4097/4097 [==============================] - 4s 935us/step - loss: 0.6251 - acc: 0.6771 - val_loss: 0.6846 - val_acc: 0.6464\n",
      "Epoch 12/30\n",
      "4097/4097 [==============================] - 4s 937us/step - loss: 0.6110 - acc: 0.6859 - val_loss: 0.7541 - val_acc: 0.6428\n",
      "Epoch 13/30\n",
      "4097/4097 [==============================] - 4s 906us/step - loss: 0.7322 - acc: 0.6800 - val_loss: 0.8693 - val_acc: 0.6303\n",
      "Epoch 14/30\n",
      "4097/4097 [==============================] - 4s 906us/step - loss: 0.7041 - acc: 0.6668 - val_loss: 0.7327 - val_acc: 0.6362\n",
      "Epoch 15/30\n",
      "4097/4097 [==============================] - 4s 905us/step - loss: 0.6969 - acc: 0.6876 - val_loss: 0.7813 - val_acc: 0.6449\n",
      "Epoch 16/30\n",
      "4097/4097 [==============================] - 4s 871us/step - loss: 0.6763 - acc: 0.6788 - val_loss: 0.6611 - val_acc: 0.6369\n",
      "Epoch 17/30\n",
      "4097/4097 [==============================] - 4s 873us/step - loss: 0.6818 - acc: 0.6673 - val_loss: 0.6418 - val_acc: 0.6296\n",
      "Epoch 18/30\n",
      "4097/4097 [==============================] - 4s 871us/step - loss: 0.6261 - acc: 0.6590 - val_loss: 0.6438 - val_acc: 0.6325\n",
      "Epoch 19/30\n",
      "4097/4097 [==============================] - 4s 874us/step - loss: 0.6196 - acc: 0.6646 - val_loss: 0.6738 - val_acc: 0.6369\n",
      "Epoch 20/30\n",
      "4097/4097 [==============================] - 4s 855us/step - loss: 0.6071 - acc: 0.6688 - val_loss: 0.6391 - val_acc: 0.6354\n",
      "Epoch 21/30\n",
      "4097/4097 [==============================] - 3s 850us/step - loss: 0.6190 - acc: 0.6595 - val_loss: 0.6440 - val_acc: 0.6303\n",
      "Epoch 22/30\n",
      "4097/4097 [==============================] - 3s 853us/step - loss: 0.6129 - acc: 0.6563 - val_loss: 0.7073 - val_acc: 0.6281\n",
      "Epoch 23/30\n",
      "4097/4097 [==============================] - 3s 835us/step - loss: 0.6388 - acc: 0.6568 - val_loss: 0.7674 - val_acc: 0.6288\n",
      "Epoch 24/30\n",
      "4097/4097 [==============================] - 3s 835us/step - loss: 0.6431 - acc: 0.6554 - val_loss: 0.7070 - val_acc: 0.6281\n",
      "Epoch 25/30\n",
      "4097/4097 [==============================] - 3s 831us/step - loss: 0.6016 - acc: 0.6551 - val_loss: 0.6826 - val_acc: 0.6281\n",
      "Epoch 26/30\n",
      "4097/4097 [==============================] - 3s 828us/step - loss: 0.6284 - acc: 0.6554 - val_loss: 0.6814 - val_acc: 0.6281\n",
      "Epoch 27/30\n",
      "4097/4097 [==============================] - 3s 832us/step - loss: 0.6119 - acc: 0.6536 - val_loss: 0.7074 - val_acc: 0.6281\n",
      "Epoch 28/30\n",
      "4097/4097 [==============================] - 3s 833us/step - loss: 0.6162 - acc: 0.6563 - val_loss: 0.7316 - val_acc: 0.6288\n",
      "Epoch 29/30\n",
      "4097/4097 [==============================] - 3s 832us/step - loss: 0.6415 - acc: 0.6619 - val_loss: 0.7867 - val_acc: 0.6435\n",
      "Epoch 30/30\n",
      "4097/4097 [==============================] - 3s 830us/step - loss: 0.6977 - acc: 0.6680 - val_loss: 0.7277 - val_acc: 0.6332\n"
     ]
    },
    {
     "data": {
      "text/plain": [
       "<keras.callbacks.History at 0x22826804320>"
      ]
     },
     "execution_count": 27,
     "metadata": {},
     "output_type": "execute_result"
    }
   ],
   "source": [
    "model.fit(X_train, y_train,\n",
    "          batch_size=100, nb_epoch=30,verbose=1,\n",
    "          validation_data=(X_test, y_test))"
   ]
  },
  {
   "cell_type": "code",
   "execution_count": 28,
   "metadata": {},
   "outputs": [
    {
     "name": "stdout",
     "output_type": "stream",
     "text": [
      "[[0.6191877  0.38081232]\n",
      " [0.6191877  0.38081232]\n",
      " [1.         0.        ]\n",
      " ...\n",
      " [0.6191877  0.38081232]\n",
      " [0.6191877  0.38081232]\n",
      " [0.6191877  0.38081232]]\n",
      "ROC:0.55\n"
     ]
    }
   ],
   "source": [
    "y_prob = model.predict(X_test, verbose=0)\n",
    "print(y_prob)\n",
    "\n",
    "roc = roc_auc_score(y_test, y_prob)\n",
    "print(\"ROC:\" + str(round(roc,2)))"
   ]
  },
  {
   "cell_type": "code",
   "execution_count": null,
   "metadata": {},
   "outputs": [],
   "source": [
    "pd.DataFrame((y_prob[:,1])).to_csv('submissio16.csv', header=[\"Label\"], index_label=\"Id\")"
   ]
  },
  {
   "cell_type": "code",
   "execution_count": null,
   "metadata": {},
   "outputs": [],
   "source": []
  },
  {
   "cell_type": "code",
   "execution_count": null,
   "metadata": {},
   "outputs": [],
   "source": []
  },
  {
   "cell_type": "code",
   "execution_count": null,
   "metadata": {},
   "outputs": [],
   "source": []
  }
 ],
 "metadata": {
  "kernelspec": {
   "display_name": "Python 3",
   "language": "python",
   "name": "python3"
  },
  "language_info": {
   "codemirror_mode": {
    "name": "ipython",
    "version": 3
   },
   "file_extension": ".py",
   "mimetype": "text/x-python",
   "name": "python",
   "nbconvert_exporter": "python",
   "pygments_lexer": "ipython3",
   "version": "3.6.5"
  }
 },
 "nbformat": 4,
 "nbformat_minor": 2
}
