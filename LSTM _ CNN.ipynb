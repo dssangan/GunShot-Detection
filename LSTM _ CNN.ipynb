{
 "cells": [
  {
   "cell_type": "code",
   "execution_count": 1,
   "metadata": {},
   "outputs": [
    {
     "name": "stderr",
     "output_type": "stream",
     "text": [
      "Using TensorFlow backend.\n"
     ]
    }
   ],
   "source": [
    "%matplotlib inline\n",
    "import numpy as np\n",
    "import pandas as pd\n",
    "import matplotlib.pyplot as plt\n",
    "\n",
    "from sklearn.model_selection import train_test_split\n",
    "from keras.models import Sequential\n",
    "from keras.layers import Dense, Dropout, Activation, Flatten\n",
    "from keras.layers import Conv1D, MaxPooling1D, LSTM, SimpleRNN\n",
    "from keras.layers.embeddings import Embedding\n",
    "from keras.utils import np_utils\n",
    "from keras.preprocessing import sequence\n",
    "from keras import optimizers, metrics, regularizers\n",
    "from sklearn.metrics import accuracy_score"
   ]
  },
  {
   "cell_type": "code",
   "execution_count": 2,
   "metadata": {},
   "outputs": [],
   "source": [
    "train_dataX = np.load('augmentedData_Combined.npy')\n",
    "test_dataX = np.load('test_data.npy')\n",
    "train_datay = pd.read_csv('AugmentedCombined_labels.csv')"
   ]
  },
  {
   "cell_type": "code",
   "execution_count": 3,
   "metadata": {},
   "outputs": [],
   "source": [
    "#pre-processing data\n",
    "train_datay = train_datay.drop('Id',1)\n",
    "train_dataX = train_dataX.reshape(-1,210,210)\n",
    "test_dataX = test_dataX.reshape(-1,210,210)\n",
    "Y_train = np_utils.to_categorical(train_datay,2)\n",
    "\n",
    "#splitting data for validation\n",
    "X_train, X_test, y_train, y_test = train_test_split(train_dataX,Y_train, test_size=0.08, shuffle=True)\n",
    "\n",
    "#deleting unwanted variables\n",
    "del train_dataX, train_datay"
   ]
  },
  {
   "cell_type": "code",
   "execution_count": 6,
   "metadata": {},
   "outputs": [
    {
     "name": "stdout",
     "output_type": "stream",
     "text": [
      "_________________________________________________________________\n",
      "Layer (type)                 Output Shape              Param #   \n",
      "=================================================================\n",
      "conv1d_4 (Conv1D)            (None, 208, 16)           10096     \n",
      "_________________________________________________________________\n",
      "max_pooling1d_3 (MaxPooling1 (None, 104, 16)           0         \n",
      "_________________________________________________________________\n",
      "dropout_3 (Dropout)          (None, 104, 16)           0         \n",
      "_________________________________________________________________\n",
      "conv1d_5 (Conv1D)            (None, 102, 32)           1568      \n",
      "_________________________________________________________________\n",
      "max_pooling1d_4 (MaxPooling1 (None, 51, 32)            0         \n",
      "_________________________________________________________________\n",
      "dropout_4 (Dropout)          (None, 51, 32)            0         \n",
      "_________________________________________________________________\n",
      "conv1d_6 (Conv1D)            (None, 49, 64)            6208      \n",
      "_________________________________________________________________\n",
      "max_pooling1d_5 (MaxPooling1 (None, 24, 64)            0         \n",
      "_________________________________________________________________\n",
      "dropout_5 (Dropout)          (None, 24, 64)            0         \n",
      "_________________________________________________________________\n",
      "lstm_1 (LSTM)                (None, 200)               212000    \n",
      "_________________________________________________________________\n",
      "dropout_6 (Dropout)          (None, 200)               0         \n",
      "_________________________________________________________________\n",
      "dense_1 (Dense)              (None, 2)                 402       \n",
      "=================================================================\n",
      "Total params: 230,274\n",
      "Trainable params: 230,274\n",
      "Non-trainable params: 0\n",
      "_________________________________________________________________\n"
     ]
    }
   ],
   "source": [
    "#del model\n",
    "model = Sequential()\n",
    "model.add(Conv1D(16 ,kernel_size=3 ,activation='relu' ,input_shape=(210,210)))\n",
    "model.add(MaxPooling1D(pool_size=2))\n",
    "model.add(Dropout(0.25))\n",
    "model.add(Conv1D(32, kernel_size=3,activation='relu'))\n",
    "model.add(MaxPooling1D(pool_size=2))\n",
    "model.add(Dropout(0.25))\n",
    "model.add(Conv1D(64, kernel_size=3,activation='relu'))\n",
    "model.add(MaxPooling1D(pool_size=2))\n",
    "model.add(Dropout(0.25))\n",
    "#model.add(SimpleRNN(128))\n",
    "model.add(LSTM(200))\n",
    "model.add(Dropout(0.25))\n",
    "model.add(Dense(2,activation='softmax'))\n",
    "\n",
    "model.summary()"
   ]
  },
  {
   "cell_type": "code",
   "execution_count": 7,
   "metadata": {},
   "outputs": [],
   "source": [
    "# compile model\n",
    "sgd=optimizers.SGD(lr=0.01) \n",
    "adam = optimizers.Adam(lr=0.01)\n",
    "model.compile(loss='categorical_crossentropy', \n",
    "              optimizer=adam,\n",
    "              metrics=['accuracy'])"
   ]
  },
  {
   "cell_type": "code",
   "execution_count": 8,
   "metadata": {},
   "outputs": [
    {
     "name": "stdout",
     "output_type": "stream",
     "text": [
      "WARNING:tensorflow:From d:\\programs\\python installed\\lib\\site-packages\\tensorflow\\python\\ops\\math_ops.py:3066: to_int32 (from tensorflow.python.ops.math_ops) is deprecated and will be removed in a future version.\n",
      "Instructions for updating:\n",
      "Use tf.cast instead.\n"
     ]
    },
    {
     "name": "stderr",
     "output_type": "stream",
     "text": [
      "d:\\programs\\python installed\\lib\\site-packages\\ipykernel_launcher.py:3: UserWarning: The `nb_epoch` argument in `fit` has been renamed `epochs`.\n",
      "  This is separate from the ipykernel package so we can avoid doing imports until\n"
     ]
    },
    {
     "name": "stdout",
     "output_type": "stream",
     "text": [
      "Train on 22074 samples, validate on 1920 samples\n",
      "Epoch 1/20\n",
      "22074/22074 [==============================] - 24s 1ms/step - loss: 0.2196 - acc: 0.9057 - val_loss: 0.1648 - val_acc: 0.9245\n",
      "Epoch 2/20\n",
      "22074/22074 [==============================] - 12s 562us/step - loss: 0.1762 - acc: 0.9198 - val_loss: 0.1343 - val_acc: 0.9469\n",
      "Epoch 3/20\n",
      "22074/22074 [==============================] - 12s 536us/step - loss: 0.1474 - acc: 0.9370 - val_loss: 0.1235 - val_acc: 0.9443\n",
      "Epoch 4/20\n",
      "22074/22074 [==============================] - 11s 501us/step - loss: 0.1217 - acc: 0.9487 - val_loss: 0.1183 - val_acc: 0.9552\n",
      "Epoch 5/20\n",
      "22074/22074 [==============================] - 11s 505us/step - loss: 0.1196 - acc: 0.9501 - val_loss: 0.1082 - val_acc: 0.9552\n",
      "Epoch 6/20\n",
      "22074/22074 [==============================] - 11s 492us/step - loss: 0.1083 - acc: 0.9551 - val_loss: 0.1004 - val_acc: 0.9589\n",
      "Epoch 7/20\n",
      "22074/22074 [==============================] - 10s 448us/step - loss: 0.1054 - acc: 0.9566 - val_loss: 0.1030 - val_acc: 0.9583\n",
      "Epoch 8/20\n",
      "22074/22074 [==============================] - 10s 442us/step - loss: 0.1066 - acc: 0.9556 - val_loss: 0.0895 - val_acc: 0.9646\n",
      "Epoch 9/20\n",
      "22074/22074 [==============================] - 10s 437us/step - loss: 0.0992 - acc: 0.9597 - val_loss: 0.1025 - val_acc: 0.9542\n",
      "Epoch 10/20\n",
      "22074/22074 [==============================] - 10s 436us/step - loss: 0.0981 - acc: 0.9597 - val_loss: 0.0883 - val_acc: 0.9589\n",
      "Epoch 11/20\n",
      "22074/22074 [==============================] - 10s 437us/step - loss: 0.0882 - acc: 0.9662 - val_loss: 0.0851 - val_acc: 0.9672\n",
      "Epoch 12/20\n",
      "22074/22074 [==============================] - 10s 434us/step - loss: 0.0919 - acc: 0.9633 - val_loss: 0.0876 - val_acc: 0.9625\n",
      "Epoch 13/20\n",
      "22074/22074 [==============================] - 10s 437us/step - loss: 0.0892 - acc: 0.9647 - val_loss: 0.0860 - val_acc: 0.9656\n",
      "Epoch 14/20\n",
      "22074/22074 [==============================] - 10s 433us/step - loss: 0.0858 - acc: 0.9685 - val_loss: 0.0854 - val_acc: 0.9656\n",
      "Epoch 15/20\n",
      "22074/22074 [==============================] - 10s 436us/step - loss: 0.0892 - acc: 0.9654 - val_loss: 0.0827 - val_acc: 0.9682\n",
      "Epoch 16/20\n",
      "22074/22074 [==============================] - 10s 435us/step - loss: 0.0870 - acc: 0.9674 - val_loss: 0.0817 - val_acc: 0.9667\n",
      "Epoch 17/20\n",
      "22074/22074 [==============================] - 10s 434us/step - loss: 0.0842 - acc: 0.9686 - val_loss: 0.0856 - val_acc: 0.9693\n",
      "Epoch 18/20\n",
      "22074/22074 [==============================] - 10s 436us/step - loss: 0.0812 - acc: 0.9682 - val_loss: 0.0755 - val_acc: 0.9719\n",
      "Epoch 19/20\n",
      "22074/22074 [==============================] - 10s 436us/step - loss: 0.0831 - acc: 0.9677 - val_loss: 0.0878 - val_acc: 0.9635\n",
      "Epoch 20/20\n",
      "22074/22074 [==============================] - 10s 441us/step - loss: 0.0880 - acc: 0.9660 - val_loss: 0.0909 - val_acc: 0.9677\n"
     ]
    },
    {
     "data": {
      "text/plain": [
       "<keras.callbacks.History at 0x219f79fd278>"
      ]
     },
     "execution_count": 8,
     "metadata": {},
     "output_type": "execute_result"
    }
   ],
   "source": [
    "model.fit(X_train, y_train,\n",
    "          batch_size=250, nb_epoch=20,verbose=1,\n",
    "          validation_data=(X_test, y_test))"
   ]
  },
  {
   "cell_type": "code",
   "execution_count": 9,
   "metadata": {},
   "outputs": [
    {
     "name": "stdout",
     "output_type": "stream",
     "text": [
      "ROC:0.9882\n"
     ]
    }
   ],
   "source": [
    "from sklearn.metrics import roc_auc_score\n",
    "\n",
    "Y_test_predClass = model.predict_proba(X_test)\n",
    "\n",
    "roc = roc_auc_score(y_test, Y_test_predClass)\n",
    "print(\"ROC:\" + str(round(roc,4)))"
   ]
  },
  {
   "cell_type": "code",
   "execution_count": 11,
   "metadata": {},
   "outputs": [
    {
     "name": "stdout",
     "output_type": "stream",
     "text": [
      "[[9.9966538e-01 3.3468613e-04]\n",
      " [9.9968231e-01 3.1772556e-04]\n",
      " [9.9952722e-01 4.7282601e-04]\n",
      " ...\n",
      " [9.9995852e-01 4.1443225e-05]\n",
      " [9.9961770e-01 3.8228699e-04]\n",
      " [1.4270164e-02 9.8572981e-01]]\n"
     ]
    }
   ],
   "source": [
    "Y_test_pred = model.predict_proba(test_dataX)\n",
    "print(Y_test_pred)"
   ]
  },
  {
   "cell_type": "code",
   "execution_count": 12,
   "metadata": {},
   "outputs": [],
   "source": [
    "pd.DataFrame(Y_test_pred[:,0]).to_csv('submission57.csv', header=[\"Label\"], index_label=\"Id\")"
   ]
  },
  {
   "cell_type": "code",
   "execution_count": null,
   "metadata": {},
   "outputs": [],
   "source": []
  }
 ],
 "metadata": {
  "kernelspec": {
   "display_name": "Python 3",
   "language": "python",
   "name": "python3"
  },
  "language_info": {
   "codemirror_mode": {
    "name": "ipython",
    "version": 3
   },
   "file_extension": ".py",
   "mimetype": "text/x-python",
   "name": "python",
   "nbconvert_exporter": "python",
   "pygments_lexer": "ipython3",
   "version": "3.6.6"
  }
 },
 "nbformat": 4,
 "nbformat_minor": 2
}
